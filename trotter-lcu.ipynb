{
  "cells": [
    {
      "cell_type": "markdown",
      "metadata": {
        "id": "IWcA4bCJl_l7"
      },
      "source": [
        "# Labwork for Hamiltonian Simulation"
      ]
    },
    {
      "cell_type": "code",
      "execution_count": 1,
      "metadata": {
        "collapsed": true,
        "id": "o3fHlWsFl_l9"
      },
      "outputs": [],
      "source": [
        "%matplotlib inline\n",
        "import matplotlib.pyplot as plt\n",
        "import numpy as np\n",
        "import math\n",
        "\n",
        "from scipy.linalg import expm\n",
        "from tqdm import tqdm\n",
        "from functools import reduce\n",
        "\n",
        "import itertools"
      ]
    },
    {
      "cell_type": "markdown",
      "metadata": {
        "id": "m4EmB2a0l_l-"
      },
      "source": [
        "#### Trotterization"
      ]
    },
    {
      "cell_type": "markdown",
      "metadata": {
        "id": "I1B-dQPil_l-"
      },
      "source": [
        "First, we will see the effect of approximating the exponential of some Hamiltonian by the product of exponentials of each individual term, repeated several times, i.e.\n",
        "$$e^{-iHt} \\approx \\left(e^{-iH_1 t/n} e^{-iH_2 t/n} \\dots e^{-iH_m t/n}\\right)^n$$\n",
        "where $H = \\sum_{i=1}^{m} H_i$."
      ]
    },
    {
      "cell_type": "markdown",
      "metadata": {
        "id": "KFLQR48vl_l_"
      },
      "source": [
        "We will simulate this using numpy. First, let us define some helper functions."
      ]
    },
    {
      "cell_type": "code",
      "execution_count": 2,
      "metadata": {
        "id": "ufD6kR1-l_l_"
      },
      "outputs": [],
      "source": [
        "idty = np.eye(2)  # Polyoperators\n",
        "x = np.array([[0,1],\n",
        "              [1,0]])\n",
        "y = np.array([[0,-1j],\n",
        "              [1j,0]])\n",
        "z = np.array([[1,0],\n",
        "              [0,-1]])\n",
        "\n",
        "def pauli_1q(op_str, i, N):\n",
        "    \"\"\"\n",
        "    op_str: operator on i-th qubit, one of 'X', 'Y', 'Z'\n",
        "    i: index of qubit (0th qubit is rightmost in the register)\n",
        "    N: total number of qubits\n",
        "    \"\"\"\n",
        "    global idty, x, y, z\n",
        "    d_str_op = {'X': x, 'Y': y, 'Z': z}\n",
        "    op_list = [idty]*(N-i-1) + [d_str_op[op_str]] + [idty]*i\n",
        "    return reduce(np.kron, op_list)\n",
        "\n",
        "def pauli_2q(op_str_i, op_str_j, i, j, N):\n",
        "    \"\"\"\n",
        "    op_str_i: operator on i-th qubit, one of 'X', 'Y', 'Z'\n",
        "    op_str_j: operator on j-th qubit, one of 'X', 'Y', 'Z'\n",
        "    i: index of i-th qubit (0th qubit is rightmost in the register)\n",
        "    j: index of j-th qubit (0th qubit is rightmost in the register)\n",
        "    N: total number of qubits\n",
        "    \"\"\"\n",
        "    global idty, x, y, z\n",
        "    d_str_op = {'X': x, 'Y': y, 'Z': z}\n",
        "    if i > j:\n",
        "        op_list = [idty]*(N-i-1) + [d_str_op[op_str_i]] + [idty]*(i-j-1) + [d_str_op[op_str_j]] + [idty]*j\n",
        "    else:\n",
        "        op_list = [idty]*(N-j-1) + [d_str_op[op_str_j]] + [idty]*(j-i-1) + [d_str_op[op_str_i]] + [idty]*i\n",
        "    return reduce(np.kron, op_list)\n",
        "\n",
        "def commutator(A, B):\n",
        "    return (A @ B) - (B @ A)\n",
        "\n",
        "def spectral_norm(A):\n",
        "    return np.linalg.norm(A, ord=2)"
      ]
    },
    {
      "cell_type": "markdown",
      "metadata": {
        "id": "X2bMvVupl_mA"
      },
      "source": [
        "Next, we create a rather simple Hamiltonian $H = X_0 X_1 + Y_0 Y_2 + Z_1 Z_2$, and compute the difference in the norms of the unitaries on either side of the approximation\n",
        "$$e^{-iHt} \\approx \\left(e^{-iX_0 X_1 t/n} e^{-i Y_0 Y_2 t/n} e^{-i Z_1 Z_2 t/n}\\right)^n$$\n",
        "for increasingly larger $n$ for a single unit of time $t=1$."
      ]
    },
    {
      "cell_type": "code",
      "execution_count": 3,
      "metadata": {
        "id": "3_nRr-4Sl_mB",
        "colab": {
          "base_uri": "https://localhost:8080/",
          "height": 519
        },
        "outputId": "65330afc-b856-4264-915b-b1b64a0cee56"
      },
      "outputs": [
        {
          "output_type": "stream",
          "name": "stderr",
          "text": [
            "100%|██████████| 30/30 [00:00<00:00, 150.06it/s]\n"
          ]
        },
        {
          "output_type": "display_data",
          "data": {
            "text/plain": [
              "<Figure size 720x576 with 1 Axes>"
            ],
            "image/png": "[encoded data removed]"
          },
          "metadata": {
            "needs_background": "light"
          }
        }
      ],
      "source": [
        "# Create a toy Hamiltonian\n",
        "ham_term1 = pauli_2q('X', 'X', 0, 1, 3)\n",
        "ham_term2 = pauli_2q('Y', 'Y', 0, 2, 3)\n",
        "ham_term3 = pauli_2q('Z', 'Z', 1, 2, 3)\n",
        "ham = ham_term1 + ham_term2 + ham_term3\n",
        "\n",
        "t = 1\n",
        "n_list = list(range(1, 30+1, 1))\n",
        "\n",
        "exp_ham = expm(-1j*ham*t)\n",
        "norm_diffs_trotter = []\n",
        "\n",
        "for n in tqdm(n_list):\n",
        "    trotter_step = expm(-1j*ham_term1*t/n) @ expm(-1j*ham_term2*t/n) @ expm(-1j*ham_term3*t/n)\n",
        "    trotter = np.linalg.matrix_power(trotter_step, n)\n",
        "    diff_trotter = exp_ham - trotter\n",
        "    norm_diff_trotter = np.abs(spectral_norm(diff_trotter))\n",
        "    norm_diffs_trotter.append(norm_diff_trotter)\n",
        "    \n",
        "# print(min(norm_diffs_trotter))\n",
        "plt.figure(figsize=(10,8))\n",
        "plt.plot(n_list, norm_diffs_trotter, label='Trotter')\n",
        "plt.xlabel('No. of Trotter steps', fontsize=15)\n",
        "plt.ylabel('Error', fontsize=15)\n",
        "plt.legend(loc='best', fontsize=15)\n",
        "plt.show()"
      ]
    },
    {
      "cell_type": "markdown",
      "metadata": {
        "id": "Vh3oKaJSl_mB"
      },
      "source": [
        "Exercise: Repeat the same, except now do it with the higher order approximation<br>\n",
        "\n",
        "$$e^{-iHt} \\approx \\left( e^{-iX_0 X_1 t/2n} e^{-i Y_0 Y_2 t/2n} e^{-i Z_1 Z_2 t/n}e^{-i Y_0 Y_2 t/2n} e^{-iX_0 X_1 t/2n}\\right) $$\n",
        "\n",
        "for the same value of t and (range of values of) n. Plot the difference in the norms from both approaches, and verify that the higher order expression converges to lower error faster. Let's call this method \"Strang\" to distinguish it from the (lowest order) \"Trotter\" method above."
      ]
    },
    {
      "cell_type": "code",
      "execution_count": 5,
      "metadata": {
        "id": "RoTiEmf-l_mC",
        "colab": {
          "base_uri": "https://localhost:8080/",
          "height": 554
        },
        "outputId": "10e2a45e-77c7-4a00-b487-cdeacbe624a6"
      },
      "outputs": [
        {
          "output_type": "stream",
          "name": "stderr",
          "text": [
            "100%|██████████| 30/30 [00:00<00:00, 71.06it/s]\n"
          ]
        },
        {
          "output_type": "stream",
          "name": "stdout",
          "text": [
            "0.037068550437969756\n",
            "0.0005508690835254466\n"
          ]
        },
        {
          "output_type": "display_data",
          "data": {
            "text/plain": [
              "<Figure size 720x576 with 1 Axes>"
            ],
            "image/png": "[encoded data removed]"
          },
          "metadata": {
            "needs_background": "light"
          }
        }
      ],
      "source": [
        "# Create a toy Hamiltonian\n",
        "ham_term1 = pauli_2q('X', 'X', 0, 1, 3)\n",
        "ham_term2 = pauli_2q('Y', 'Y', 0, 2, 3)\n",
        "ham_term3 = pauli_2q('Z', 'Z', 1, 2, 3)\n",
        "ham = ham_term1 + ham_term2 + ham_term3\n",
        "\n",
        "t = 1\n",
        "n_list = list(range(1, 30+1, 1))\n",
        "\n",
        "exp_ham = expm(-1j*ham*t)\n",
        "norm_diffs_trotter = []\n",
        "norm_diffs_strang = []\n",
        "\n",
        "for n in tqdm(n_list):\n",
        "    trotter_step = expm(-1j*ham_term1*t/n) @ expm(-1j*ham_term2*t/n) @ expm(-1j*ham_term3*t/n)\n",
        "    strang_step = expm(-1j*ham_term1*t/(2*n)) @ expm(-1j*ham_term2*t/(2*n)) @ expm(-1j*ham_term3*t/(n)) @ expm(-1j*ham_term2*t/(2*n)) @ expm(-1j*ham_term1*t/(2*n))\n",
        "\n",
        "    trotter = np.linalg.matrix_power(trotter_step, n)\n",
        "    strang = np.linalg.matrix_power(strang_step, n)\n",
        "\n",
        "    diff_trotter = exp_ham - trotter\n",
        "    diff_strang = exp_ham - strang\n",
        "\n",
        "    norm_diff_trotter = np.abs(spectral_norm(diff_trotter))\n",
        "    norm_diff_strang = np.abs(spectral_norm(diff_strang))\n",
        "\n",
        "    norm_diffs_trotter.append(norm_diff_trotter)\n",
        "    norm_diffs_strang.append(norm_diff_strang)\n",
        "    \n",
        "print(min(norm_diffs_trotter))\n",
        "print(min(norm_diffs_strang))\n",
        "plt.figure(figsize=(10,8))\n",
        "plt.plot(n_list, norm_diffs_trotter, label='Trotter')\n",
        "plt.plot(n_list, norm_diffs_strang, label='Strang')\n",
        "plt.xlabel('No. of Trotter steps', fontsize=15)\n",
        "plt.ylabel('Error', fontsize=15)\n",
        "plt.legend(loc='best', fontsize=15)\n",
        "plt.show()"
      ]
    },
    {
      "cell_type": "markdown",
      "metadata": {
        "id": "lNjGRe1Gl_mC"
      },
      "source": [
        "#### LCU"
      ]
    },
    {
      "cell_type": "markdown",
      "metadata": {
        "id": "P6K2M_Tpl_mD"
      },
      "source": [
        "Next, we will explore sub-routines in the Linear Combination of Unitaries (LCU) and Qubitization methods. For this section, you will need pyQuil, so be sure to install it (https://pyquil-docs.rigetti.com/en/stable/start.html) if you haven't already."
      ]
    },
    {
      "cell_type": "code",
      "source": [
        "!pip install pyquil"
      ],
      "metadata": {
        "id": "Jl5xBKwtnmXD",
        "colab": {
          "base_uri": "https://localhost:8080/"
        },
        "outputId": "a74e2c9a-484d-48ba-a339-d4efcb05df6d"
      },
      "execution_count": 7,
      "outputs": [
        {
          "output_type": "stream",
          "name": "stdout",
          "text": [
            "Looking in indexes: https://pypi.org/simple, https://us-python.pkg.dev/colab-wheels/public/simple/\n",
            "Collecting pyquil\n",
            "  Downloading pyquil-3.1.0-py3-none-any.whl (220 kB)\n",
            "\u001b[K     |████████████████████████████████| 220 kB 5.1 MB/s \n",
            "\u001b[?25hCollecting lark<0.12.0,>=0.11.1\n",
            "  Downloading lark-0.11.3.tar.gz (229 kB)\n",
            "\u001b[K     |████████████████████████████████| 229 kB 33.9 MB/s \n",
            "\u001b[?25hCollecting rpcq<4.0.0,>=3.6.0\n",
            "  Downloading rpcq-3.10.0.tar.gz (44 kB)\n",
            "\u001b[K     |████████████████████████████████| 44 kB 2.5 MB/s \n",
            "\u001b[?25hRequirement already satisfied: networkx<3.0,>=2.5 in /usr/local/lib/python3.7/dist-packages (from pyquil) (2.6.3)\n",
            "Requirement already satisfied: scipy<2.0.0,>=1.6.1 in /usr/local/lib/python3.7/dist-packages (from pyquil) (1.7.3)\n",
            "Collecting importlib-metadata<4.0.0,>=3.7.3\n",
            "  Downloading importlib_metadata-3.10.1-py3-none-any.whl (14 kB)\n",
            "Collecting qcs-api-client<0.21.0,>=0.8.1\n",
            "  Downloading qcs_api_client-0.20.17-py3-none-any.whl (142 kB)\n",
            "\u001b[K     |████████████████████████████████| 142 kB 42.1 MB/s \n",
            "\u001b[?25hRequirement already satisfied: numpy<2.0,>=1.20 in /usr/local/lib/python3.7/dist-packages (from pyquil) (1.21.6)\n",
            "Collecting retry<0.10.0,>=0.9.2\n",
            "  Downloading retry-0.9.2-py2.py3-none-any.whl (8.0 kB)\n",
            "Requirement already satisfied: typing-extensions>=3.6.4 in /usr/local/lib/python3.7/dist-packages (from importlib-metadata<4.0.0,>=3.7.3->pyquil) (4.1.1)\n",
            "Requirement already satisfied: zipp>=0.5 in /usr/local/lib/python3.7/dist-packages (from importlib-metadata<4.0.0,>=3.7.3->pyquil) (3.8.1)\n",
            "Requirement already satisfied: pydantic<2.0.0,>=1.7.2 in /usr/local/lib/python3.7/dist-packages (from qcs-api-client<0.21.0,>=0.8.1->pyquil) (1.9.1)\n",
            "Collecting retrying<2.0.0,>=1.3.3\n",
            "  Downloading retrying-1.3.3.tar.gz (10 kB)\n",
            "Collecting iso8601<0.2.0,>=0.1.13\n",
            "  Downloading iso8601-0.1.16-py2.py3-none-any.whl (10 kB)\n",
            "Collecting pyjwt<2.0.0,>=1.7.1\n",
            "  Downloading PyJWT-1.7.1-py2.py3-none-any.whl (18 kB)\n",
            "Collecting rfc3339<7.0,>=6.2\n",
            "  Downloading rfc3339-6.2-py3-none-any.whl (5.5 kB)\n",
            "Requirement already satisfied: python-dateutil<3.0.0,>=2.8.1 in /usr/local/lib/python3.7/dist-packages (from qcs-api-client<0.21.0,>=0.8.1->pyquil) (2.8.2)\n",
            "Collecting httpx<0.16.0,>=0.15.0\n",
            "  Downloading httpx-0.15.5-py3-none-any.whl (65 kB)\n",
            "\u001b[K     |████████████████████████████████| 65 kB 3.3 MB/s \n",
            "\u001b[?25hCollecting toml<0.11.0,>=0.10.2\n",
            "  Downloading toml-0.10.2-py2.py3-none-any.whl (16 kB)\n",
            "Collecting attrs<21.0.0,>=20.1.0\n",
            "  Downloading attrs-20.3.0-py2.py3-none-any.whl (49 kB)\n",
            "\u001b[K     |████████████████████████████████| 49 kB 5.3 MB/s \n",
            "\u001b[?25hCollecting sniffio\n",
            "  Downloading sniffio-1.2.0-py3-none-any.whl (10 kB)\n",
            "Requirement already satisfied: certifi in /usr/local/lib/python3.7/dist-packages (from httpx<0.16.0,>=0.15.0->qcs-api-client<0.21.0,>=0.8.1->pyquil) (2022.6.15)\n",
            "Collecting httpcore==0.11.*\n",
            "  Downloading httpcore-0.11.1-py3-none-any.whl (52 kB)\n",
            "\u001b[K     |████████████████████████████████| 52 kB 1.3 MB/s \n",
            "\u001b[?25hCollecting rfc3986[idna2008]<2,>=1.3\n",
            "  Downloading rfc3986-1.5.0-py2.py3-none-any.whl (31 kB)\n",
            "Collecting h11<0.10,>=0.8\n",
            "  Downloading h11-0.9.0-py2.py3-none-any.whl (53 kB)\n",
            "\u001b[K     |████████████████████████████████| 53 kB 2.0 MB/s \n",
            "\u001b[?25hRequirement already satisfied: six>=1.5 in /usr/local/lib/python3.7/dist-packages (from python-dateutil<3.0.0,>=2.8.1->qcs-api-client<0.21.0,>=0.8.1->pyquil) (1.15.0)\n",
            "Requirement already satisfied: decorator>=3.4.2 in /usr/local/lib/python3.7/dist-packages (from retry<0.10.0,>=0.9.2->pyquil) (4.4.2)\n",
            "Requirement already satisfied: py<2.0.0,>=1.4.26 in /usr/local/lib/python3.7/dist-packages (from retry<0.10.0,>=0.9.2->pyquil) (1.11.0)\n",
            "Requirement already satisfied: idna in /usr/local/lib/python3.7/dist-packages (from rfc3986[idna2008]<2,>=1.3->httpx<0.16.0,>=0.15.0->qcs-api-client<0.21.0,>=0.8.1->pyquil) (2.10)\n",
            "Collecting msgpack<1.0,>=0.6\n",
            "  Downloading msgpack-0.6.2-cp37-cp37m-manylinux1_x86_64.whl (243 kB)\n",
            "\u001b[K     |████████████████████████████████| 243 kB 36.1 MB/s \n",
            "\u001b[?25hCollecting python-rapidjson\n",
            "  Downloading python_rapidjson-1.8-cp37-cp37m-manylinux_2_17_x86_64.manylinux2014_x86_64.whl (1.6 MB)\n",
            "\u001b[K     |████████████████████████████████| 1.6 MB 43.8 MB/s \n",
            "\u001b[?25hRequirement already satisfied: pyzmq>=17 in /usr/local/lib/python3.7/dist-packages (from rpcq<4.0.0,>=3.6.0->pyquil) (23.2.0)\n",
            "Collecting ruamel.yaml\n",
            "  Downloading ruamel.yaml-0.17.21-py3-none-any.whl (109 kB)\n",
            "\u001b[K     |████████████████████████████████| 109 kB 37.9 MB/s \n",
            "\u001b[?25hCollecting ruamel.yaml.clib>=0.2.6\n",
            "  Downloading ruamel.yaml.clib-0.2.6-cp37-cp37m-manylinux1_x86_64.whl (546 kB)\n",
            "\u001b[K     |████████████████████████████████| 546 kB 54.9 MB/s \n",
            "\u001b[?25hBuilding wheels for collected packages: lark, retrying, rpcq\n",
            "  Building wheel for lark (setup.py) ... \u001b[?25l\u001b[?25hdone\n",
            "  Created wheel for lark: filename=lark-0.11.3-py2.py3-none-any.whl size=99648 sha256=60def9853e1eb6d6ec75079881c145e63baad6ab8499ddae7f0b37bbf8e22fdc\n",
            "  Stored in directory: /root/.cache/pip/wheels/d7/61/3c/9ac365f55966367be8d77dbeb21a3ddece3c466e660121e8d6\n",
            "  Building wheel for retrying (setup.py) ... \u001b[?25l\u001b[?25hdone\n",
            "  Created wheel for retrying: filename=retrying-1.3.3-py3-none-any.whl size=11447 sha256=fa901bdc827c5ae036a8cdf61aa7ededcc58f504c582182f3a3c99f4d75725a0\n",
            "  Stored in directory: /root/.cache/pip/wheels/f9/8d/8d/f6af3f7f9eea3553bc2fe6d53e4b287dad18b06a861ac56ddf\n",
            "  Building wheel for rpcq (setup.py) ... \u001b[?25l\u001b[?25hdone\n",
            "  Created wheel for rpcq: filename=rpcq-3.10.0-py3-none-any.whl size=45969 sha256=77c2f8a9904572eea40c6df6a13a1b9f6f5729813cbef7e7d62ff160d4f7a50a\n",
            "  Stored in directory: /root/.cache/pip/wheels/ff/44/60/4b8ce5700839431ee56820af595a2ac0e013a180232e5afba6\n",
            "Successfully built lark retrying rpcq\n",
            "Installing collected packages: sniffio, rfc3986, h11, ruamel.yaml.clib, httpcore, toml, ruamel.yaml, rfc3339, retrying, python-rapidjson, pyjwt, msgpack, iso8601, httpx, attrs, rpcq, retry, qcs-api-client, lark, importlib-metadata, pyquil\n",
            "  Attempting uninstall: msgpack\n",
            "    Found existing installation: msgpack 1.0.4\n",
            "    Uninstalling msgpack-1.0.4:\n",
            "      Successfully uninstalled msgpack-1.0.4\n",
            "  Attempting uninstall: attrs\n",
            "    Found existing installation: attrs 21.4.0\n",
            "    Uninstalling attrs-21.4.0:\n",
            "      Successfully uninstalled attrs-21.4.0\n",
            "  Attempting uninstall: importlib-metadata\n",
            "    Found existing installation: importlib-metadata 4.12.0\n",
            "    Uninstalling importlib-metadata-4.12.0:\n",
            "      Successfully uninstalled importlib-metadata-4.12.0\n",
            "\u001b[31mERROR: pip's dependency resolver does not currently take into account all the packages that are installed. This behaviour is the source of the following dependency conflicts.\n",
            "markdown 3.4.1 requires importlib-metadata>=4.4; python_version < \"3.10\", but you have importlib-metadata 3.10.1 which is incompatible.\n",
            "datascience 0.10.6 requires folium==0.2.1, but you have folium 0.8.3 which is incompatible.\u001b[0m\n",
            "Successfully installed attrs-20.3.0 h11-0.9.0 httpcore-0.11.1 httpx-0.15.5 importlib-metadata-3.10.1 iso8601-0.1.16 lark-0.11.3 msgpack-0.6.2 pyjwt-1.7.1 pyquil-3.1.0 python-rapidjson-1.8 qcs-api-client-0.20.17 retry-0.9.2 retrying-1.3.3 rfc3339-6.2 rfc3986-1.5.0 rpcq-3.10.0 ruamel.yaml-0.17.21 ruamel.yaml.clib-0.2.6 sniffio-1.2.0 toml-0.10.2\n"
          ]
        }
      ]
    },
    {
      "cell_type": "code",
      "execution_count": 8,
      "metadata": {
        "collapsed": true,
        "id": "TeUnjIKZl_mD"
      },
      "outputs": [],
      "source": [
        "from pyquil import Program, get_qc\n",
        "from pyquil.api import WavefunctionSimulator\n",
        "from pyquil.gates import *\n",
        "from pyquil.paulis import *"
      ]
    },
    {
      "cell_type": "markdown",
      "metadata": {
        "id": "6WFLKRyWl_mD"
      },
      "source": [
        "Recall that in the linear combination of unitaries (LCU) approach, as well as in qubitization, we require access to the unitary $U_{PREP}$ which acts as\n",
        "$$U_{PREP} = \\sum_{i=1}^{L} \\alpha_{i} \\vert i \\rangle$$\n",
        "where the Hamiltonian we wish to simulate is $H = \\sum_{i} \\alpha_i U_i$. W assume that $\\alpha_i > 0$ (absorb any phases into the unitaries $U_i$'s), so that we need a general method to prepare a state with some input real amplitudes, which we describe below."
      ]
    },
    {
      "cell_type": "markdown",
      "metadata": {
        "id": "qqGCPmyhl_mD"
      },
      "source": [
        "Given a quantum state with real amplitudes, how do we construct a circuit that would prepare such a state? As described in \"Transformation of quantum states using uniformly controlled rotations\" by Mottonen et al. (https://arxiv.org/pdf/quant-ph/0407010.pdf), we need to run the following series of controlled rotations:\n",
        "<img src=\"https://github.com/ntubman/summerschool/blob/main/oldlabs/lab1/Labs/uniformly_controlled_rotations.png?raw=1\" alt=\"Drawing\" style=\"width: 1000px;\"/>\n",
        "where the black dots denote the control qubit being in the state $\\vert 1 \\rangle$ and the white dots denote the control qubit being in the state $\\vert 0 \\rangle$."
      ]
    },
    {
      "cell_type": "markdown",
      "metadata": {
        "id": "2ZI_4PIEl_mE"
      },
      "source": [
        "The angles are to be calculated according to\n",
        "<img src=\"https://github.com/ntubman/summerschool/blob/main/oldlabs/lab1/Labs/beta_angles.png?raw=1\" alt=\"Drawing\" style=\"width: 400px;\"/>"
      ]
    },
    {
      "cell_type": "markdown",
      "metadata": {
        "id": "HTvvoUR2l_mE"
      },
      "source": [
        "Let us first write a function that can calculate the $\\beta$'s above."
      ]
    },
    {
      "cell_type": "code",
      "execution_count": null,
      "metadata": {
        "collapsed": true,
        "id": "VuXf0SOpl_mE"
      },
      "outputs": [],
      "source": [
        "def all_betas(amps):\n",
        "    \"\"\"\n",
        "    Given some real amplitudes, compute the RY angles needed to prepare this state\n",
        "\n",
        "    :return dict: key: (s, j), value: beta angle\n",
        "    \"\"\"\n",
        "    n = math.log(len(amps), 2)\n",
        "    assert np.isclose(n, int(n)), \"Specify 2^n amplitudes for some n\"\n",
        "    n = int(n)\n",
        "    d_betas = {}\n",
        "    for s in range(1, n + 1):\n",
        "        for j in range(1, 2**(n-s) + 1):\n",
        "            # calculate numerator\n",
        "            ### TODO\n",
        "            # calculate denominator\n",
        "            ### TODO\n",
        "            # avoid any pathological cases, e.g. if denominator = 0.0\n",
        "            if np.isclose(numerator, 0.0):\n",
        "                ratio = 0.0\n",
        "            else:\n",
        "                ratio = numerator / denominator\n",
        "            # ensure argument to arccos lies within domain [-1, 1]\n",
        "            if ratio > 1.0:\n",
        "                ratio = 1.0\n",
        "            elif ratio < -1.0:\n",
        "                ratio = -1.0\n",
        "            else:\n",
        "                pass\n",
        "            # finally, compute the beta angles\n",
        "            d_betas[s, j] = -2 * np.arcsin(ratio)\n",
        "    return d_betas"
      ]
    },
    {
      "cell_type": "markdown",
      "metadata": {
        "id": "ySw8B5Opl_mE"
      },
      "source": [
        "Following this, we now write a function that will encode a given classical vector into the amplitudes of a quantum state. For example, for a circuit that produces an equal superposition of 3-qubit states with amplitudes $1/\\sqrt{2^3}$, this would produce the following output (py)Quil program (even though for this simple case, we can simply perform Hadamards on all the qubits):<br>\n",
        "<br>\n",
        "RY(-1.5707963267948968) 2<br>\n",
        "CONTROLLED RY(-1.5707963267948963) 2 1<br>\n",
        "X 2<br>\n",
        "CONTROLLED RY(-1.5707963267948963) 2 1<br>\n",
        "X 2<br>\n",
        "CONTROLLED CONTROLLED RY(-1.5707963267948968) 2 1 0<br>\n",
        "X 1<br>\n",
        "CONTROLLED CONTROLLED RY(-1.5707963267948968) 2 1 0<br>\n",
        "X 1<br>\n",
        "X 2<br>\n",
        "CONTROLLED CONTROLLED RY(-1.5707963267948968) 2 1 0<br>\n",
        "X 2<br>\n",
        "X 1<br>\n",
        "X 2<br>\n",
        "CONTROLLED CONTROLLED RY(-1.5707963267948968) 2 1 0<br>\n",
        "X 2<br>\n",
        "X 1<br>"
      ]
    },
    {
      "cell_type": "code",
      "execution_count": null,
      "metadata": {
        "collapsed": true,
        "id": "o-ENBMSpl_mE"
      },
      "outputs": [],
      "source": [
        "def state_prep_prog(amps):\n",
        "    \"\"\"\n",
        "    Given some real amplitudes, compute the pyQuil Program needed to prepare this state\n",
        "    \n",
        "    :return Program: state preparation circuit\n",
        "    \"\"\"\n",
        "    n = math.log(len(amps), 2)\n",
        "    assert np.isclose(n, int(n)), \"Specify 2^n amplitudes for some n\"\n",
        "    n = int(n)\n",
        "    d_betas = all_betas(amps)\n",
        "    tot_prog = Program()\n",
        "    for s in range(n, 0, -1):\n",
        "        tot_js = 2**(n-s)\n",
        "        num_combs = math.log(tot_js, 2)\n",
        "        assert np.isclose(num_combs, int(num_combs)), \"Something went wrong\"\n",
        "        num_combs = int(num_combs)\n",
        "        all_combs = np.array(list(itertools.product([0, 1], repeat=num_combs)))\n",
        "        for j in range(1, tot_js + 1)[::-1]:\n",
        "            if len(all_combs) == 1:\n",
        "                tot_prog += Program(f\"RY({d_betas[s, j]}) {s-1}\")\n",
        "            else:\n",
        "                # pick the relevant combination, e.g. [0,0] or [0, 1] or [1, 0] or [1, 1] for two control qubits\n",
        "                comb = all_combs[j-1]\n",
        "                rot_oper_prog_str = f\"RY({d_betas[s, j]}) \"\n",
        "                rot_qub_prog_str = f\"{s-1}\"\n",
        "                flip_prog_strs = []\n",
        "                # this loops through the controlled operation, e.g. [0, 1] in the opposite direction\n",
        "                for x, cbit in enumerate(comb[::-1]):\n",
        "                    if cbit == 0:\n",
        "                        flip_prog_strs += [f\"X {s+x}\"]\n",
        "                    else:\n",
        "                        pass\n",
        "                    rot_oper_prog_str = # TODO\n",
        "                    rot_qub_prog_str = # TODO\n",
        "                rot_prog_str = rot_oper_prog_str + rot_qub_prog_str\n",
        "                tot_prog += Program(flip_prog_strs) + Program(rot_prog_str) + Program(flip_prog_strs[::-1])\n",
        "\n",
        "    return tot_prog"
      ]
    },
    {
      "cell_type": "markdown",
      "metadata": {
        "id": "LoRxjdybl_mF"
      },
      "source": [
        "To check the correctness of our implementation, we will test the functions above against random amplitudes."
      ]
    },
    {
      "cell_type": "code",
      "execution_count": null,
      "metadata": {
        "collapsed": true,
        "id": "KgoGrX2yl_mF"
      },
      "outputs": [],
      "source": [
        "wfn_sim = WavefunctionSimulator()"
      ]
    },
    {
      "cell_type": "code",
      "execution_count": null,
      "metadata": {
        "collapsed": true,
        "id": "a13DHgVHl_mF"
      },
      "outputs": [],
      "source": [
        "def random_amplitudes(num_qubits=3):\n",
        "    N = 2**num_qubits\n",
        "    amps = np.random.uniform(low=0.0, high=1.0, size=N)\n",
        "    amps *= 1 / np.sqrt(np.sum(np.abs(amps)**2))\n",
        "    assert np.isclose(np.sum(np.abs(amps)**2), 1.0), \"Amplitudes do not square-sum to 1\"\n",
        "    return amps"
      ]
    },
    {
      "cell_type": "code",
      "execution_count": null,
      "metadata": {
        "id": "YBfnQZmdl_mF"
      },
      "outputs": [],
      "source": [
        "n_trials = 100\n",
        "\n",
        "for _ in tqdm(range(n_trials)):\n",
        "\n",
        "    # draw some random real amplitudes\n",
        "    amps = random_amplitudes()\n",
        "\n",
        "    # create the state prep Program corresponding to these amplitudes\n",
        "    prep_prog = state_prep_prog(amps)\n",
        "    wfn = wfn_sim.wavefunction(prep_prog)\n",
        "\n",
        "    # compare the outcome probabilities resulting from the state prep Program\n",
        "    # with the expected probabilities\n",
        "    outcome_probs = list(wfn.get_outcome_probs().values())\n",
        "    expected_probs = amps**2\n",
        "    assert np.allclose(expected_probs, outcome_probs), \"Measurement probabilities do not agree\""
      ]
    }
  ],
  "metadata": {
    "kernelspec": {
      "display_name": "Python 3 (ipykernel)",
      "language": "python",
      "name": "python3"
    },
    "language_info": {
      "codemirror_mode": {
        "name": "ipython",
        "version": 3
      },
      "file_extension": ".py",
      "mimetype": "text/x-python",
      "name": "python",
      "nbconvert_exporter": "python",
      "pygments_lexer": "ipython3",
      "version": "3.9.7"
    },
    "colab": {
      "name": "Hamiltonian_simulation_notebook.ipynb",
      "provenance": []
    }
  },
  "nbformat": 4,
  "nbformat_minor": 0
}